{
 "cells": [
  {
   "cell_type": "code",
   "execution_count": 1,
   "metadata": {
    "collapsed": true,
    "nbpresent": {
     "id": "c5082ec4-a5c1-4fd8-b452-88ceb683c4da"
    },
    "slideshow": {
     "slide_type": "-"
    }
   },
   "outputs": [],
   "source": [
    "import numpy as np\n",
    "import matplotlib.pyplot as plt"
   ]
  },
  {
   "cell_type": "code",
   "execution_count": 2,
   "metadata": {
    "collapsed": false,
    "nbpresent": {
     "id": "8371b326-bbec-4ce8-83f5-b2fb8318f216"
    },
    "slideshow": {
     "slide_type": "-"
    }
   },
   "outputs": [],
   "source": [
    "quantizer_term = 6\n",
    "original_image = [\n",
    "        [12,11,12],\n",
    "        [12,12,12],\n",
    "        [13,12,11]\n",
    "]"
   ]
  },
  {
   "cell_type": "code",
   "execution_count": 3,
   "metadata": {
    "collapsed": true,
    "nbpresent": {
     "id": "d91033c8-488b-4730-a14b-17729ceed721"
    },
    "slideshow": {
     "slide_type": "-"
    }
   },
   "outputs": [],
   "source": [
    "fft_original_image = np.fft.fft2(original_image)"
   ]
  },
  {
   "cell_type": "code",
   "execution_count": 4,
   "metadata": {
    "collapsed": false,
    "nbpresent": {
     "id": "b1a2cd8c-8d90-4bf7-bd84-7fc4326e44bf"
    }
   },
   "outputs": [
    {
     "data": {
      "text/plain": [
       "array([[ 107.0+0.j        ,    2.0+0.j        ,    2.0+0.j        ],\n",
       "       [  -1.0+0.j        ,    0.5+2.59807621j,   -1.0+0.j        ],\n",
       "       [  -1.0+0.j        ,   -1.0+0.j        ,    0.5-2.59807621j]])"
      ]
     },
     "execution_count": 4,
     "metadata": {},
     "output_type": "execute_result"
    }
   ],
   "source": [
    "fft_original_image # imaginary array"
   ]
  },
  {
   "cell_type": "code",
   "execution_count": 5,
   "metadata": {
    "collapsed": false,
    "nbpresent": {
     "id": "0962fc58-a887-4e2c-8bf4-a6a69eea1967"
    }
   },
   "outputs": [
    {
     "data": {
      "text/plain": [
       "array([[ 107. ,    2. ,    2. ],\n",
       "       [  -1. ,    0.5,   -1. ],\n",
       "       [  -1. ,   -1. ,    0.5]])"
      ]
     },
     "execution_count": 5,
     "metadata": {},
     "output_type": "execute_result"
    }
   ],
   "source": [
    "fft_original_image.real # real part"
   ]
  },
  {
   "cell_type": "code",
   "execution_count": 6,
   "metadata": {
    "collapsed": false,
    "nbpresent": {
     "id": "9c76a7e5-dc4a-4db7-ab88-5f002f8cea9f"
    }
   },
   "outputs": [
    {
     "data": {
      "text/plain": [
       "array([[ 12.,  11.,  12.],\n",
       "       [ 12.,  12.,  12.],\n",
       "       [ 13.,  12.,  11.]])"
      ]
     },
     "execution_count": 6,
     "metadata": {},
     "output_type": "execute_result"
    }
   ],
   "source": [
    "np.fft.ifft2(fft_original_image).real # inverse over the transformed"
   ]
  },
  {
   "cell_type": "code",
   "execution_count": 7,
   "metadata": {
    "collapsed": false,
    "nbpresent": {
     "id": "839a421d-2df5-4479-93e5-bd3d06945718"
    }
   },
   "outputs": [],
   "source": [
    "quantized = np.divide(fft_original_image,[quantizer_term]) # quantized array"
   ]
  },
  {
   "cell_type": "code",
   "execution_count": 8,
   "metadata": {
    "collapsed": false,
    "nbpresent": {
     "id": "2f79f89c-50a1-4052-a15f-2d8094295d43"
    }
   },
   "outputs": [
    {
     "data": {
      "text/plain": [
       "array([[ 17.83333333+0.j       ,   0.33333333+0.j       ,   0.33333333+0.j       ],\n",
       "       [ -0.16666667+0.j       ,   0.08333333+0.4330127j,  -0.16666667+0.j       ],\n",
       "       [ -0.16666667+0.j       ,  -0.16666667+0.j       ,\n",
       "          0.08333333-0.4330127j]])"
      ]
     },
     "execution_count": 8,
     "metadata": {},
     "output_type": "execute_result"
    }
   ],
   "source": [
    "quantized # quantized array"
   ]
  },
  {
   "cell_type": "code",
   "execution_count": 9,
   "metadata": {
    "collapsed": false,
    "nbpresent": {
     "id": "f82a1922-9e2c-4df2-b268-426e8ddc6c4e"
    }
   },
   "outputs": [
    {
     "data": {
      "text/plain": [
       "array([[ 18.,   0.,   0.],\n",
       "       [  0.,   0.,   0.],\n",
       "       [  0.,   0.,   0.]])"
      ]
     },
     "execution_count": 9,
     "metadata": {},
     "output_type": "execute_result"
    }
   ],
   "source": [
    "np.around(np.absolute(quantized.real))"
   ]
  },
  {
   "cell_type": "code",
   "execution_count": 10,
   "metadata": {
    "collapsed": false,
    "nbpresent": {
     "id": "3c0897df-a030-4176-9543-40f22519a242"
    }
   },
   "outputs": [],
   "source": [
    "rounded_quantized = np.around(np.absolute(quantized))\n",
    "reverse_quantized = np.multiply(rounded_quantized,[quantizer_term])\n",
    "reverse_fft_quantized = np.around(np.fft.ifft2(reverse_quantized).real)"
   ]
  },
  {
   "cell_type": "code",
   "execution_count": 11,
   "metadata": {
    "collapsed": false,
    "nbpresent": {
     "id": "055d4f8f-2a56-4184-a883-f2113449f142"
    }
   },
   "outputs": [
    {
     "data": {
      "image/png": "[encoded data removed]",
      "text/plain": [
       "<matplotlib.figure.Figure at 0x7fb9a7b98550>"
      ]
     },
     "metadata": {},
     "output_type": "display_data"
    },
    {
     "data": {
      "image/png": "[encoded data removed]",
      "text/plain": [
       "<matplotlib.figure.Figure at 0x7fb9a599fe50>"
      ]
     },
     "metadata": {},
     "output_type": "display_data"
    }
   ],
   "source": [
    "plt.imshow(original_image, interpolation='nearest',cmap=plt.cm.binary, vmax=26, vmin=0)\n",
    "plt.show()\n",
    "\n",
    "plt.imshow(reverse_fft_quantized, interpolation='nearest',cmap=plt.cm.binary, vmax=26, vmin=0)\n",
    "plt.show()"
   ]
  },
  {
   "cell_type": "markdown",
   "metadata": {},
   "source": [
    "# Original"
   ]
  },
  {
   "cell_type": "code",
   "execution_count": 12,
   "metadata": {
    "collapsed": false
   },
   "outputs": [
    {
     "name": "stdout",
     "output_type": "stream",
     "text": [
      "[[12 11 12]\n",
      " [12 12 12]\n",
      " [13 12 11]]\n"
     ]
    }
   ],
   "source": [
    "print(np.array(original_image))"
   ]
  },
  {
   "cell_type": "markdown",
   "metadata": {
    "slideshow": {
     "slide_type": "-"
    }
   },
   "source": [
    "# Reversed quantized"
   ]
  },
  {
   "cell_type": "code",
   "execution_count": 13,
   "metadata": {
    "collapsed": false,
    "nbpresent": {
     "id": "10f43829-02ac-494e-bc6b-fbed9989b8db"
    }
   },
   "outputs": [
    {
     "name": "stdout",
     "output_type": "stream",
     "text": [
      "[[ 12.  12.  12.]\n",
      " [ 12.  12.  12.]\n",
      " [ 12.  12.  12.]]\n"
     ]
    }
   ],
   "source": [
    "print(reverse_fft_quantized)"
   ]
  },
  {
   "cell_type": "markdown",
   "metadata": {},
   "source": [
    "# Residual difference"
   ]
  },
  {
   "cell_type": "code",
   "execution_count": 14,
   "metadata": {
    "collapsed": false
   },
   "outputs": [
    {
     "name": "stdout",
     "output_type": "stream",
     "text": [
      "[[ 0.  1.  0.]\n",
      " [ 0.  0.  0.]\n",
      " [ 1.  0.  1.]]\n"
     ]
    }
   ],
   "source": [
    "print(np.absolute(np.subtract(original_image,reverse_fft_quantized)))"
   ]
  },
  {
   "cell_type": "code",
   "execution_count": null,
   "metadata": {
    "collapsed": true
   },
   "outputs": [],
   "source": []
  },
  {
   "cell_type": "code",
   "execution_count": null,
   "metadata": {
    "collapsed": true
   },
   "outputs": [],
   "source": []
  },
  {
   "cell_type": "code",
   "execution_count": null,
   "metadata": {
    "collapsed": true
   },
   "outputs": [],
   "source": []
  }
 ],
 "metadata": {
  "anaconda-cloud": {},
  "kernelspec": {
   "display_name": "Python 2",
   "language": "python",
   "name": "python2"
  },
  "language_info": {
   "codemirror_mode": {
    "name": "ipython",
    "version": 2
   },
   "file_extension": ".py",
   "mimetype": "text/x-python",
   "name": "python",
   "nbconvert_exporter": "python",
   "pygments_lexer": "ipython2",
   "version": "2.7.12"
  }
 },
 "nbformat": 4,
 "nbformat_minor": 1
}
